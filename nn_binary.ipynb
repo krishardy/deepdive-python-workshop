{
 "cells": [
  {
   "cell_type": "code",
   "execution_count": 82,
   "metadata": {},
   "outputs": [],
   "source": [
    "import pandas as pd\n",
    "import numpy as np\n",
    "from sklearn import neural_network"
   ]
  },
  {
   "cell_type": "code",
   "execution_count": 83,
   "metadata": {},
   "outputs": [],
   "source": [
    "dataset = {\n",
    "    'values': [],\n",
    "    'classes': []\n",
    "}\n",
    "for i in range(0, 255):\n",
    "    dataset['values'].append([(i >> 7) & 0x01, (i >> 6) & 0x01, (i >> 5) & 0x01, (i >> 4) & 0x01, (i >> 3) & 0x01, (i >> 2) & 0x01, (i >> 1) & 0x01, (i >> 0) & 0x01])\n",
    "    dataset['classes'].append(i)"
   ]
  },
  {
   "cell_type": "code",
   "execution_count": 84,
   "metadata": {},
   "outputs": [
    {
     "name": "stdout",
     "output_type": "stream",
     "text": [
      "Iterations to convergence: 202\n"
     ]
    }
   ],
   "source": [
    "classifier = neural_network.MLPClassifier(solver='lbfgs', alpha=1e-5, hidden_layer_sizes=(8,))\n",
    "classifier = classifier.fit(dataset['values'], dataset['classes'])\n",
    "print(\"Iterations to convergence: {}\".format(classifier.n_iter_))"
   ]
  },
  {
   "cell_type": "code",
   "execution_count": 85,
   "metadata": {},
   "outputs": [],
   "source": [
    "results = classifier.predict(dataset['values'])"
   ]
  },
  {
   "cell_type": "code",
   "execution_count": 87,
   "metadata": {},
   "outputs": [
    {
     "name": "stdout",
     "output_type": "stream",
     "text": [
      "8 != 192\n",
      "12 != 192\n",
      "13 != 168\n",
      "24 != 216\n",
      "64 != 192\n",
      "72 != 232\n",
      "136 != 192\n",
      "137 != 192\n",
      "140 != 192\n",
      "153 != 192\n",
      "156 != 192\n",
      "193 != 192\n",
      "200 != 192\n",
      "201 != 192\n",
      "202 != 24\n",
      "203 != 192\n",
      "204 != 192\n",
      "205 != 192\n",
      "217 != 192\n",
      "221 != 192\n",
      "233 != 192\n",
      "248 != 88\n",
      "Mismatch count: 22\n"
     ]
    }
   ],
   "source": [
    "mismatches = 0\n",
    "for x1, x2 in zip(classes, results):\n",
    "    if x1 != x2:\n",
    "        print(\"{0} != {1}\".format(x1, x2))\n",
    "        mismatches += 1\n",
    "print(\"Mismatch count: {}\".format(mismatches))"
   ]
  },
  {
   "cell_type": "code",
   "execution_count": null,
   "metadata": {},
   "outputs": [],
   "source": []
  }
 ],
 "metadata": {
  "kernelspec": {
   "display_name": "Python 3",
   "language": "python",
   "name": "python3"
  },
  "language_info": {
   "codemirror_mode": {
    "name": "ipython",
    "version": 3
   },
   "file_extension": ".py",
   "mimetype": "text/x-python",
   "name": "python",
   "nbconvert_exporter": "python",
   "pygments_lexer": "ipython3",
   "version": "3.6.3"
  }
 },
 "nbformat": 4,
 "nbformat_minor": 2
}
